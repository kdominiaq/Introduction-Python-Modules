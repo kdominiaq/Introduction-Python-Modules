{
 "cells": [
  {
   "cell_type": "markdown",
   "id": "b2b8633b",
   "metadata": {},
   "source": [
    "# Prerequisites"
   ]
  },
  {
   "cell_type": "code",
   "execution_count": 222,
   "id": "d52665ef",
   "metadata": {
    "scrolled": false
   },
   "outputs": [
    {
     "name": "stdout",
     "output_type": "stream",
     "text": [
      "Requirement already satisfied: numpy in /home/flexlink/anaconda3/envs/jupyter/lib/python3.9/site-packages (1.21.2)\n",
      "Note: you may need to restart the kernel to use updated packages.\n"
     ]
    }
   ],
   "source": [
    "pip install numpy"
   ]
  },
  {
   "cell_type": "code",
   "execution_count": 223,
   "id": "6950d600",
   "metadata": {},
   "outputs": [],
   "source": [
    "# importing numpy module\n",
    "import numpy as np"
   ]
  },
  {
   "cell_type": "code",
   "execution_count": 224,
   "id": "3dcacf89",
   "metadata": {},
   "outputs": [
    {
     "name": "stdout",
     "output_type": "stream",
     "text": [
      "[ 0  1  2  3  4  5  6  7  8  9 10 11 12 13 14]\n"
     ]
    }
   ],
   "source": [
    "# working with lists nad maxtrixes\n",
    "a = np.arange(15)\n",
    "print(a)"
   ]
  },
  {
   "cell_type": "markdown",
   "id": "fa3d8a50",
   "metadata": {},
   "source": [
    "# Reshaping "
   ]
  },
  {
   "cell_type": "code",
   "execution_count": 225,
   "id": "7c97fb3f",
   "metadata": {},
   "outputs": [
    {
     "data": {
      "text/plain": [
       "array([[ 0,  1,  2,  3,  4],\n",
       "       [ 5,  6,  7,  8,  9],\n",
       "       [10, 11, 12, 13, 14]])"
      ]
     },
     "execution_count": 225,
     "metadata": {},
     "output_type": "execute_result"
    }
   ],
   "source": [
    "# reshaping the dimantions of 'a'\n",
    "a.reshape(3,5)"
   ]
  },
  {
   "cell_type": "code",
   "execution_count": 226,
   "id": "38dbd443",
   "metadata": {},
   "outputs": [
    {
     "data": {
      "text/plain": [
       "array([[ 0,  1,  2,  3,  4,  5,  6,  7,  8,  9, 10, 11, 12, 13, 14]])"
      ]
     },
     "execution_count": 226,
     "metadata": {},
     "output_type": "execute_result"
    }
   ],
   "source": [
    "# reshaping the dimantions of 'a'\n",
    "# value '-1' is the any value which is needed to create matrixes with given shape\n",
    "a.reshape(1, -1)"
   ]
  },
  {
   "cell_type": "code",
   "execution_count": 227,
   "id": "a9742778",
   "metadata": {},
   "outputs": [
    {
     "data": {
      "text/plain": [
       "array([[ 0,  1,  2],\n",
       "       [ 3,  4,  5],\n",
       "       [ 6,  7,  8],\n",
       "       [ 9, 10, 11],\n",
       "       [12, 13, 14]])"
      ]
     },
     "execution_count": 227,
     "metadata": {},
     "output_type": "execute_result"
    }
   ],
   "source": [
    "a.reshape(5,-1)"
   ]
  },
  {
   "cell_type": "code",
   "execution_count": 228,
   "id": "b7b6d56b",
   "metadata": {
    "scrolled": true
   },
   "outputs": [
    {
     "data": {
      "text/plain": [
       "array([[ 0,  1,  2,  3,  4],\n",
       "       [ 5,  6,  7,  8,  9],\n",
       "       [10, 11, 12, 13, 14]])"
      ]
     },
     "execution_count": 228,
     "metadata": {},
     "output_type": "execute_result"
    }
   ],
   "source": [
    "a.reshape(-1,5)"
   ]
  },
  {
   "cell_type": "code",
   "execution_count": 229,
   "id": "0b190984",
   "metadata": {},
   "outputs": [
    {
     "data": {
      "text/plain": [
       "array([[ 0,  1,  2],\n",
       "       [ 3,  4,  5],\n",
       "       [ 6,  7,  8],\n",
       "       [ 9, 10, 11],\n",
       "       [12, 13, 14]])"
      ]
     },
     "execution_count": 229,
     "metadata": {},
     "output_type": "execute_result"
    }
   ],
   "source": [
    "a.reshape(5,3)"
   ]
  },
  {
   "cell_type": "code",
   "execution_count": 230,
   "id": "1e81b3f0",
   "metadata": {},
   "outputs": [
    {
     "data": {
      "text/plain": [
       "array([ 0,  1,  2,  3,  4,  5,  6,  7,  8,  9, 10, 11, 12, 13, 14])"
      ]
     },
     "execution_count": 230,
     "metadata": {},
     "output_type": "execute_result"
    }
   ],
   "source": [
    "# returns the array, flattened\n",
    "a.ravel() "
   ]
  },
  {
   "cell_type": "markdown",
   "id": "bb41be9b",
   "metadata": {},
   "source": [
    "# Getting basic informations about array"
   ]
  },
  {
   "cell_type": "code",
   "execution_count": 231,
   "id": "2037d3b7",
   "metadata": {},
   "outputs": [
    {
     "data": {
      "text/plain": [
       "(15,)"
      ]
     },
     "execution_count": 231,
     "metadata": {},
     "output_type": "execute_result"
    }
   ],
   "source": [
    "# getting information about 'a'\n",
    "a.shape"
   ]
  },
  {
   "cell_type": "code",
   "execution_count": 232,
   "id": "f9404284",
   "metadata": {},
   "outputs": [],
   "source": [
    "# as you can see, the shape of 'a' is countig from the first inicialization of 'a' - \"a = np.arange(15)\"\n",
    "# ! if you wanna work on changing value 'a' you have to assign this function to 'a' and execute one more time shape method"
   ]
  },
  {
   "cell_type": "code",
   "execution_count": 233,
   "id": "d6c81459",
   "metadata": {},
   "outputs": [],
   "source": [
    "# assign value to 'a'\n",
    "a = a.reshape(5,3)"
   ]
  },
  {
   "cell_type": "code",
   "execution_count": 234,
   "id": "f710f7df",
   "metadata": {},
   "outputs": [
    {
     "data": {
      "text/plain": [
       "(5, 3)"
      ]
     },
     "execution_count": 234,
     "metadata": {},
     "output_type": "execute_result"
    }
   ],
   "source": [
    "a.shape"
   ]
  },
  {
   "cell_type": "code",
   "execution_count": 235,
   "id": "a0550b4c",
   "metadata": {},
   "outputs": [],
   "source": [
    "# now everything is working fine, so now we are ready to know another methods"
   ]
  },
  {
   "cell_type": "code",
   "execution_count": 236,
   "id": "eaef5b96",
   "metadata": {},
   "outputs": [
    {
     "data": {
      "text/plain": [
       "2"
      ]
     },
     "execution_count": 236,
     "metadata": {},
     "output_type": "execute_result"
    }
   ],
   "source": [
    "# the number of axes (dimensions) of the array.\n",
    "a.ndim"
   ]
  },
  {
   "cell_type": "code",
   "execution_count": 237,
   "id": "264794d4",
   "metadata": {},
   "outputs": [
    {
     "data": {
      "text/plain": [
       "dtype('int64')"
      ]
     },
     "execution_count": 237,
     "metadata": {},
     "output_type": "execute_result"
    }
   ],
   "source": [
    "# an object describing the type of the elements in the array. One can create or specify dtype’s using \n",
    "# standard Python types. Additionally NumPy provides types of its own. numpy.int32, numpy.int16, and numpy.float64 \n",
    "# are some examples.\n",
    "a.dtype"
   ]
  },
  {
   "cell_type": "code",
   "execution_count": 238,
   "id": "52b7f719",
   "metadata": {},
   "outputs": [
    {
     "data": {
      "text/plain": [
       "'int64'"
      ]
     },
     "execution_count": 238,
     "metadata": {},
     "output_type": "execute_result"
    }
   ],
   "source": [
    "# name of type\n",
    "a.dtype.name"
   ]
  },
  {
   "cell_type": "code",
   "execution_count": 239,
   "id": "1696203e",
   "metadata": {},
   "outputs": [
    {
     "data": {
      "text/plain": [
       "15"
      ]
     },
     "execution_count": 239,
     "metadata": {},
     "output_type": "execute_result"
    }
   ],
   "source": [
    "# the total number of elements of the array, working like len() method\n",
    "a.size"
   ]
  },
  {
   "cell_type": "code",
   "execution_count": 240,
   "id": "a7b4138a",
   "metadata": {},
   "outputs": [
    {
     "data": {
      "text/plain": [
       "8"
      ]
     },
     "execution_count": 240,
     "metadata": {},
     "output_type": "execute_result"
    }
   ],
   "source": [
    "# the size in bytes of each element of the array. For example, an array of elements of type float64 has \n",
    "# itemsize 8 (=64/8), while one of type complex32 has itemsize 4 (=32/8). It is equivalent to \n",
    "# ndarray.dtype.itemsize.\n",
    "a.itemsize"
   ]
  },
  {
   "cell_type": "code",
   "execution_count": 241,
   "id": "93e3dcb3",
   "metadata": {},
   "outputs": [
    {
     "data": {
      "text/plain": [
       "<memory at 0x7f63c9358110>"
      ]
     },
     "execution_count": 241,
     "metadata": {},
     "output_type": "execute_result"
    }
   ],
   "source": [
    "# the buffer containing the actual elements of the array. Normally, we won’t need to use this attribute \n",
    "# because we will access the elements in an array using indexing facilities.\n",
    "a.data"
   ]
  },
  {
   "cell_type": "markdown",
   "id": "cb450aba",
   "metadata": {},
   "source": [
    "# Array Creation"
   ]
  },
  {
   "cell_type": "code",
   "execution_count": 242,
   "id": "2c10a469",
   "metadata": {},
   "outputs": [
    {
     "name": "stdout",
     "output_type": "stream",
     "text": [
      "[2 3 4]\n"
     ]
    }
   ],
   "source": [
    "# creating list by getting values\n",
    "b_vector_by_values = np.array([2, 3, 4])\n",
    "print(b_vector_by_values)"
   ]
  },
  {
   "cell_type": "code",
   "execution_count": 243,
   "id": "167dad4f",
   "metadata": {},
   "outputs": [
    {
     "name": "stdout",
     "output_type": "stream",
     "text": [
      "[2 3 4]\n"
     ]
    }
   ],
   "source": [
    "# creating list by existing list\n",
    "# clasic python list\n",
    "classic_list = [2, 3, 4]\n",
    "b_vector_by_list = np.array(classic_list)\n",
    "print(b_vector_by_list)"
   ]
  },
  {
   "cell_type": "code",
   "execution_count": 244,
   "id": "39240d84",
   "metadata": {},
   "outputs": [
    {
     "name": "stdout",
     "output_type": "stream",
     "text": [
      "[[1 2 3]\n",
      " [4 5 6]]\n"
     ]
    }
   ],
   "source": [
    "# creating list by getting values\n",
    "# clasic python maxtrix which is created by list of lists\n",
    "b_matrix_by_values = np.array([[1, 2, 3],[4, 5, 6]])\n",
    "print(b_matrix_by_values)"
   ]
  },
  {
   "cell_type": "code",
   "execution_count": 245,
   "id": "512038fb",
   "metadata": {},
   "outputs": [
    {
     "name": "stdout",
     "output_type": "stream",
     "text": [
      "[[1 2 3]\n",
      " [4 5 6]]\n"
     ]
    }
   ],
   "source": [
    "classic_maxtrix = [[1, 2, 3],[4, 5, 6]]\n",
    "b_matrix_by_matrix = np.array(classic_maxtrix) \n",
    "print(b_matrix_by_matrix)"
   ]
  },
  {
   "cell_type": "code",
   "execution_count": 246,
   "id": "6fea1166",
   "metadata": {},
   "outputs": [
    {
     "data": {
      "text/plain": [
       "array([[0., 0., 0., 0.],\n",
       "       [0., 0., 0., 0.],\n",
       "       [0., 0., 0., 0.]])"
      ]
     },
     "execution_count": 246,
     "metadata": {},
     "output_type": "execute_result"
    }
   ],
   "source": [
    "# another way to array creation\n",
    "# The function zeros creates an array full of zeros, the function ones creates an array full of ones, and the \n",
    "# function empty creates an array whose initial content is random and depends on the state of the memory. \n",
    "# By default, the dtype of the created array is float64, but it can be specified via the key word argument dtype.\n",
    "np.zeros((3, 4))"
   ]
  },
  {
   "cell_type": "code",
   "execution_count": 247,
   "id": "188f811f",
   "metadata": {},
   "outputs": [
    {
     "data": {
      "text/plain": [
       "array([[[1, 1, 1, 1],\n",
       "        [1, 1, 1, 1],\n",
       "        [1, 1, 1, 1]],\n",
       "\n",
       "       [[1, 1, 1, 1],\n",
       "        [1, 1, 1, 1],\n",
       "        [1, 1, 1, 1]]], dtype=int16)"
      ]
     },
     "execution_count": 247,
     "metadata": {},
     "output_type": "execute_result"
    }
   ],
   "source": [
    "np.ones((2, 3, 4), dtype=np.int16)"
   ]
  },
  {
   "cell_type": "code",
   "execution_count": 248,
   "id": "04b046be",
   "metadata": {},
   "outputs": [
    {
     "data": {
      "text/plain": [
       "array([[9., 7., 5.],\n",
       "       [2., 5., 4.]])"
      ]
     },
     "execution_count": 248,
     "metadata": {},
     "output_type": "execute_result"
    }
   ],
   "source": [
    "np.empty((2, 3))"
   ]
  },
  {
   "cell_type": "code",
   "execution_count": 249,
   "id": "4744af68",
   "metadata": {},
   "outputs": [
    {
     "data": {
      "text/plain": [
       "array([1.        , 1.44444444, 1.88888889, 2.33333333, 2.77777778,\n",
       "       3.22222222, 3.66666667, 4.11111111, 4.55555556, 5.        ])"
      ]
     },
     "execution_count": 249,
     "metadata": {},
     "output_type": "execute_result"
    }
   ],
   "source": [
    "# linespace(start_value, end_value, number_of_elements_in_list)\n",
    "np.linspace(1,5,10)"
   ]
  },
  {
   "cell_type": "markdown",
   "id": "679ed588",
   "metadata": {},
   "source": [
    "### Fastback to logic in python -  difference between '==' and 'is'\n",
    "#### As you've already known python has two different tools for checking equals of values, ' '==' and 'is'. \n",
    "##### The first one '==' is more common and allows checking if two values its the same..\n",
    "##### The second one check also it's the two values are the same by checking the space in the memory disk.."
   ]
  },
  {
   "cell_type": "code",
   "execution_count": 250,
   "id": "693c23b5",
   "metadata": {},
   "outputs": [],
   "source": [
    "# creating two normal list\n",
    "fastback_a = [2, 3, 4]\n",
    "fastback_b = [2, 3, 4]"
   ]
  },
  {
   "cell_type": "code",
   "execution_count": 251,
   "id": "989d1c7c",
   "metadata": {},
   "outputs": [
    {
     "name": "stdout",
     "output_type": "stream",
     "text": [
      "[2, 3, 4]\n",
      "[2, 3, 4]\n",
      "True\n"
     ]
    }
   ],
   "source": [
    "print(fastback_a)\n",
    "print(fastback_b)\n",
    "print(fastback_a == fastback_b)"
   ]
  },
  {
   "cell_type": "code",
   "execution_count": 252,
   "id": "282bd1d2",
   "metadata": {},
   "outputs": [
    {
     "name": "stdout",
     "output_type": "stream",
     "text": [
      "False\n",
      "0x7f63c9317cc0\n",
      "0x7f63c93835c0\n"
     ]
    }
   ],
   "source": [
    "print(fastback_a is fastback_b)\n",
    "print(hex(id(fastback_a)))\n",
    "print(hex(id(fastback_b)))"
   ]
  },
  {
   "cell_type": "code",
   "execution_count": 253,
   "id": "26329186",
   "metadata": {},
   "outputs": [],
   "source": [
    "# so as you can see, the results from these two methods are difference, because '=='\n",
    "# checking only equals of values, but 'is' also check space of memory where the value is saved"
   ]
  },
  {
   "cell_type": "markdown",
   "id": "95cb79e2",
   "metadata": {},
   "source": [
    "# Basic Operations"
   ]
  },
  {
   "cell_type": "code",
   "execution_count": 254,
   "id": "d51542ed",
   "metadata": {},
   "outputs": [
    {
     "name": "stdout",
     "output_type": "stream",
     "text": [
      "[20 29 38 47]\n"
     ]
    }
   ],
   "source": [
    "a = np.array([20, 30, 40, 50])\n",
    "b = np.arange(4) # [0, 1, 2, 3]\n",
    "print(a - b)"
   ]
  },
  {
   "cell_type": "code",
   "execution_count": 255,
   "id": "6661da7f",
   "metadata": {},
   "outputs": [
    {
     "name": "stdout",
     "output_type": "stream",
     "text": [
      "[0 1 4 9]\n"
     ]
    }
   ],
   "source": [
    "print(b**2)"
   ]
  },
  {
   "cell_type": "code",
   "execution_count": 256,
   "id": "ec6dde5a",
   "metadata": {},
   "outputs": [
    {
     "name": "stdout",
     "output_type": "stream",
     "text": [
      "[ 0.  5. 10. 15.]\n"
     ]
    }
   ],
   "source": [
    "# Field of the triangle, values of the base is from list 'a' and height is 10\n",
    "# REMEMBER we didn't assign  previous step to 'b' so b is still [0, 1, 2, 3]\n",
    "print( 10 * b / 2)"
   ]
  },
  {
   "cell_type": "code",
   "execution_count": 257,
   "id": "ad8147b8",
   "metadata": {},
   "outputs": [
    {
     "name": "stdout",
     "output_type": "stream",
     "text": [
      "[[-1  1]\n",
      " [-3 -3]]\n"
     ]
    }
   ],
   "source": [
    "A = np.array([[1, 1],\n",
    "              [0, 1]])\n",
    "B = np.array([[2, 0],\n",
    "              [3, 4]])\n",
    "print(A -B)"
   ]
  },
  {
   "cell_type": "code",
   "execution_count": 258,
   "id": "e672788a",
   "metadata": {},
   "outputs": [
    {
     "name": "stdout",
     "output_type": "stream",
     "text": [
      "[[2 0]\n",
      " [0 4]]\n"
     ]
    }
   ],
   "source": [
    "# elementwise product\n",
    "print(A * B)"
   ]
  },
  {
   "cell_type": "code",
   "execution_count": 259,
   "id": "b4889a0f",
   "metadata": {},
   "outputs": [
    {
     "name": "stdout",
     "output_type": "stream",
     "text": [
      "[[5 4]\n",
      " [3 4]]\n"
     ]
    }
   ],
   "source": [
    "# matrix product\n",
    "print(A @ B)"
   ]
  },
  {
   "cell_type": "markdown",
   "id": "48990dc2",
   "metadata": {},
   "source": [
    "# Indexing, Slicing and Iterating"
   ]
  },
  {
   "cell_type": "code",
   "execution_count": 260,
   "id": "ef105cd2",
   "metadata": {},
   "outputs": [
    {
     "name": "stdout",
     "output_type": "stream",
     "text": [
      "[  0   1   8  27  64 125 216 343 512 729]\n"
     ]
    }
   ],
   "source": [
    "a = np.arange(10)**3\n",
    "print(a)"
   ]
  },
  {
   "cell_type": "code",
   "execution_count": 261,
   "id": "2bccd51d",
   "metadata": {},
   "outputs": [
    {
     "name": "stdout",
     "output_type": "stream",
     "text": [
      "8\n"
     ]
    }
   ],
   "source": [
    "print(a[2])"
   ]
  },
  {
   "cell_type": "code",
   "execution_count": 262,
   "id": "4a4db294",
   "metadata": {},
   "outputs": [
    {
     "name": "stdout",
     "output_type": "stream",
     "text": [
      "[ 8 27 64]\n"
     ]
    }
   ],
   "source": [
    "print(a[2:5])"
   ]
  },
  {
   "cell_type": "code",
   "execution_count": 263,
   "id": "24a99549",
   "metadata": {},
   "outputs": [
    {
     "name": "stdout",
     "output_type": "stream",
     "text": [
      "[ 0  8 64]\n"
     ]
    }
   ],
   "source": [
    "# from start to position 6, exclusive, get every 2nd element\n",
    "print(a[:6:2])"
   ]
  },
  {
   "cell_type": "code",
   "execution_count": 264,
   "id": "1b3572d4",
   "metadata": {},
   "outputs": [
    {
     "name": "stdout",
     "output_type": "stream",
     "text": [
      "[729 512 343 216 125  64  27   8   1   0]\n"
     ]
    }
   ],
   "source": [
    "print(a[::-1])"
   ]
  },
  {
   "cell_type": "code",
   "execution_count": 265,
   "id": "a5234a76",
   "metadata": {},
   "outputs": [
    {
     "name": "stdout",
     "output_type": "stream",
     "text": [
      "[[ 0  1  2  3  4]\n",
      " [ 5  6  7  8  9]\n",
      " [10 11 12 13 14]\n",
      " [15 16 17 18 19]\n",
      " [20 21 22 23 24]\n",
      " [25 26 27 28 29]\n",
      " [30 31 32 33 34]\n",
      " [35 36 37 38 39]\n",
      " [40 41 42 43 44]]\n"
     ]
    }
   ],
   "source": [
    "# a 2D array\n",
    "b = np.arange(45).reshape(9,5)\n",
    "print(b)"
   ]
  },
  {
   "cell_type": "code",
   "execution_count": 266,
   "id": "52784e34",
   "metadata": {},
   "outputs": [
    {
     "name": "stdout",
     "output_type": "stream",
     "text": [
      "13\n"
     ]
    }
   ],
   "source": [
    "print(b[2, 3])"
   ]
  },
  {
   "cell_type": "code",
   "execution_count": 267,
   "id": "0c29ebcd",
   "metadata": {},
   "outputs": [
    {
     "name": "stdout",
     "output_type": "stream",
     "text": [
      "[ 1  6 11 16 21]\n"
     ]
    }
   ],
   "source": [
    "# each row in the second column of b\n",
    "print(b[0:5, 1])"
   ]
  },
  {
   "cell_type": "code",
   "execution_count": 268,
   "id": "0e7ce525",
   "metadata": {},
   "outputs": [
    {
     "name": "stdout",
     "output_type": "stream",
     "text": [
      "[ 1  6 11 16 21 26 31 36 41]\n"
     ]
    }
   ],
   "source": [
    "# equivalent to the previous example\n",
    "print(b[:, 1])"
   ]
  },
  {
   "cell_type": "code",
   "execution_count": 269,
   "id": "da04112f",
   "metadata": {},
   "outputs": [
    {
     "name": "stdout",
     "output_type": "stream",
     "text": [
      "[[ 5  6  7  8  9]\n",
      " [10 11 12 13 14]]\n"
     ]
    }
   ],
   "source": [
    "# each column in the second and third row of b\n",
    "print(b[1:3, :])"
   ]
  },
  {
   "cell_type": "code",
   "execution_count": 270,
   "id": "c7ebff52",
   "metadata": {},
   "outputs": [
    {
     "name": "stdout",
     "output_type": "stream",
     "text": [
      "[40 41 42 43 44]\n"
     ]
    }
   ],
   "source": [
    "# the last row. Equivalent to b[-1, :]\n",
    "print(b[-1])"
   ]
  },
  {
   "cell_type": "code",
   "execution_count": 271,
   "id": "f0dc8d37",
   "metadata": {},
   "outputs": [
    {
     "name": "stdout",
     "output_type": "stream",
     "text": [
      "[[[  0   1   2]\n",
      "  [ 10  12  13]]\n",
      "\n",
      " [[100 101 102]\n",
      "  [110 112 113]]]\n"
     ]
    }
   ],
   "source": [
    "# a 3D array (two stacked 2D arrays)\n",
    "c = np.array([[[  0,  1,  2],\n",
    "               [ 10, 12, 13]],\n",
    "              [[100, 101, 102],\n",
    "               [110, 112, 113]]])\n",
    "print(c)"
   ]
  },
  {
   "cell_type": "code",
   "execution_count": 272,
   "id": "d944fb30",
   "metadata": {},
   "outputs": [
    {
     "data": {
      "text/plain": [
       "3"
      ]
     },
     "execution_count": 272,
     "metadata": {},
     "output_type": "execute_result"
    }
   ],
   "source": [
    "# number of dimensions\n",
    "c.ndim"
   ]
  },
  {
   "cell_type": "code",
   "execution_count": 273,
   "id": "2bdbb8fd",
   "metadata": {},
   "outputs": [
    {
     "name": "stdout",
     "output_type": "stream",
     "text": [
      "[[100 101 102]\n",
      " [110 112 113]]\n"
     ]
    }
   ],
   "source": [
    "# same as c[1, :, :] or c[1]\n",
    "print(c[1, ...])"
   ]
  },
  {
   "cell_type": "code",
   "execution_count": 274,
   "id": "9dc0151a",
   "metadata": {},
   "outputs": [
    {
     "name": "stdout",
     "output_type": "stream",
     "text": [
      "[[  2  13]\n",
      " [102 113]]\n"
     ]
    }
   ],
   "source": [
    "# same as c[:, :, 2]\n",
    "print(c[..., 2])"
   ]
  },
  {
   "cell_type": "code",
   "execution_count": 275,
   "id": "f1834fd3",
   "metadata": {},
   "outputs": [
    {
     "name": "stdout",
     "output_type": "stream",
     "text": [
      "[[ 0  1  2  3]\n",
      " [ 4  5  6  7]\n",
      " [ 8  9 10 11]]\n"
     ]
    }
   ],
   "source": [
    "d = np.arange(12).reshape(3, 4)\n",
    "print(d)"
   ]
  },
  {
   "cell_type": "code",
   "execution_count": 276,
   "id": "d32ac86a",
   "metadata": {},
   "outputs": [],
   "source": [
    "# first dim selection and second dim selection\n",
    "b1 = np.array([False, True, True])         \n",
    "b2 = np.array([True, False, True, False])  "
   ]
  },
  {
   "cell_type": "code",
   "execution_count": 277,
   "id": "82ac5805",
   "metadata": {},
   "outputs": [
    {
     "name": "stdout",
     "output_type": "stream",
     "text": [
      "[[ 4  5  6  7]\n",
      " [ 8  9 10 11]]\n"
     ]
    }
   ],
   "source": [
    "# selecting rows - first row is skipped becasue the first value from b1 is False\n",
    "print(d[b1, :])"
   ]
  },
  {
   "cell_type": "code",
   "execution_count": 278,
   "id": "bfd85647",
   "metadata": {},
   "outputs": [
    {
     "name": "stdout",
     "output_type": "stream",
     "text": [
      "[[ 0  2]\n",
      " [ 4  6]\n",
      " [ 8 10]]\n"
     ]
    }
   ],
   "source": [
    "# selecting columns - first and thitd column \n",
    "print(d[:, b2])"
   ]
  },
  {
   "cell_type": "code",
   "execution_count": 279,
   "id": "4a6cc21a",
   "metadata": {},
   "outputs": [
    {
     "name": "stdout",
     "output_type": "stream",
     "text": [
      "[ 4 10]\n"
     ]
    }
   ],
   "source": [
    "# wierd..  \n",
    "print(d[b1, b2])  "
   ]
  },
  {
   "cell_type": "markdown",
   "id": "4a4d2334",
   "metadata": {},
   "source": [
    "# Stacking together different arrays"
   ]
  },
  {
   "cell_type": "code",
   "execution_count": 280,
   "id": "ee6be947",
   "metadata": {},
   "outputs": [],
   "source": [
    "# 'rg' is needed to create array with randoms values\n",
    "rg = np.random.default_rng(1)"
   ]
  },
  {
   "cell_type": "code",
   "execution_count": 281,
   "id": "84beb7df",
   "metadata": {},
   "outputs": [
    {
     "name": "stdout",
     "output_type": "stream",
     "text": [
      "[[5. 9. 1. 9. 3. 4. 8. 4. 5. 0. 7. 5.]\n",
      " [3. 7. 3. 4. 1. 4. 2. 2. 7. 2. 4. 9.]]\n"
     ]
    }
   ],
   "source": [
    "e = np.floor(10 * rg.random((2, 12)))\n",
    "print(e)"
   ]
  },
  {
   "cell_type": "code",
   "execution_count": 282,
   "id": "ef916ba8",
   "metadata": {},
   "outputs": [
    {
     "name": "stdout",
     "output_type": "stream",
     "text": [
      "[array([[5., 9., 1., 9.],\n",
      "       [3., 7., 3., 4.]]), array([[3., 4., 8., 4.],\n",
      "       [1., 4., 2., 2.]]), array([[5., 0., 7., 5.],\n",
      "       [7., 2., 4., 9.]])]\n"
     ]
    }
   ],
   "source": [
    "# split `e` into 3 vsplit method also exists\n",
    "print(np.hsplit(e, 3))"
   ]
  },
  {
   "cell_type": "code",
   "execution_count": 283,
   "id": "29fd70c5",
   "metadata": {},
   "outputs": [
    {
     "name": "stdout",
     "output_type": "stream",
     "text": [
      "[[5. 9. 1. 9.]\n",
      " [3. 7. 3. 4.]]\n"
     ]
    }
   ],
   "source": [
    "# get first array from the spilted 'e' which was spited into 3\n",
    "print(np.hsplit(e, 3)[0])"
   ]
  },
  {
   "cell_type": "code",
   "execution_count": 284,
   "id": "2c741a6e",
   "metadata": {},
   "outputs": [
    {
     "name": "stdout",
     "output_type": "stream",
     "text": [
      "[array([[5., 9., 1.],\n",
      "       [3., 7., 3.]]), array([[9.],\n",
      "       [4.]]), array([[3., 4., 8., 4., 5., 0., 7., 5.],\n",
      "       [1., 4., 2., 2., 7., 2., 4., 9.]])]\n"
     ]
    }
   ],
   "source": [
    "# split `a` after the third and the fourth column\n",
    "print(np.hsplit(e, (3, 4)))"
   ]
  },
  {
   "cell_type": "markdown",
   "id": "5d1dcb36",
   "metadata": {},
   "source": [
    "# Copies and Views\n",
    "#### Fastback tone more to difference between '==' and 'is'"
   ]
  },
  {
   "cell_type": "code",
   "execution_count": 285,
   "id": "20fb5b93",
   "metadata": {},
   "outputs": [
    {
     "name": "stdout",
     "output_type": "stream",
     "text": [
      "[[ 0  1  2  3]\n",
      " [ 4  5  6  7]\n",
      " [ 8  9 10 11]]\n"
     ]
    }
   ],
   "source": [
    "f = np.array([[ 0,  1,  2,  3],\n",
    "              [ 4,  5,  6,  7],\n",
    "              [ 8,  9, 10, 11]])\n",
    "print(f)"
   ]
  },
  {
   "cell_type": "code",
   "execution_count": 286,
   "id": "70d0a89a",
   "metadata": {},
   "outputs": [
    {
     "name": "stdout",
     "output_type": "stream",
     "text": [
      "g: 0x7f63c930c990\n",
      "f: 0x7f63c930c990\n",
      "True\n"
     ]
    }
   ],
   "source": [
    "# no new object is created, only values from 'f' is saved to 'g'. So the sapce in memeory is the same for both varaibles\n",
    "g = f\n",
    "print('g: '+ hex(id(g)))\n",
    "print('f: '+ hex(id(f)))\n",
    "print(g is f)"
   ]
  },
  {
   "cell_type": "code",
   "execution_count": 287,
   "id": "b7013d4f",
   "metadata": {},
   "outputs": [
    {
     "name": "stdout",
     "output_type": "stream",
     "text": [
      "g: 0x7f63c92a55d0\n",
      "f: 0x7f63c930c990\n",
      "Is the same space in memory for both values? False\n",
      "Is 'g' based on 'f'? True\n"
     ]
    }
   ],
   "source": [
    "# now 'g' is a view of 'f'. So the space in memory is difference for both variables, BUT 'g' is still connect \n",
    "# to 'f', we can check this by base method which return base of array\n",
    "g = f.view()\n",
    "print('g: '+ hex(id(g)))\n",
    "print('f: '+ hex(id(f)))\n",
    "print('Is the same space in memory for both values?', g is f)\n",
    "print('Is \\'g\\' based on \\'f\\'?', g.base is f)"
   ]
  },
  {
   "cell_type": "code",
   "execution_count": 288,
   "id": "62d517b5",
   "metadata": {},
   "outputs": [
    {
     "name": "stdout",
     "output_type": "stream",
     "text": [
      "g: 0x7f63c9314450\n",
      "f: 0x7f63c930c990\n",
      "Is the same space in memory for both values? False\n",
      "Is 'g' based on 'f'? False\n"
     ]
    }
   ],
   "source": [
    "# finally new object is created\n",
    "g = f.copy()\n",
    "print('g: '+ hex(id(g)))\n",
    "print('f: '+ hex(id(f)))\n",
    "print('Is the same space in memory for both values?', g is f)\n",
    "print('Is \\'g\\' based on \\'f\\'?', g.base is f)"
   ]
  }
 ],
 "metadata": {
  "kernelspec": {
   "display_name": "Python 3 (ipykernel)",
   "language": "python",
   "name": "python3"
  },
  "language_info": {
   "codemirror_mode": {
    "name": "ipython",
    "version": 3
   },
   "file_extension": ".py",
   "mimetype": "text/x-python",
   "name": "python",
   "nbconvert_exporter": "python",
   "pygments_lexer": "ipython3",
   "version": "3.9.7"
  }
 },
 "nbformat": 4,
 "nbformat_minor": 5
}
